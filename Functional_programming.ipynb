{
  "nbformat": 4,
  "nbformat_minor": 0,
  "metadata": {
    "colab": {
      "provenance": [],
      "mount_file_id": "1JIi0YnEO1pse6TpZTcjHU8v0wJIJU3D-",
      "authorship_tag": "ABX9TyNm1jfUCya0e4KPrI0GUxd0",
      "include_colab_link": true
    },
    "kernelspec": {
      "name": "python3",
      "display_name": "Python 3"
    },
    "language_info": {
      "name": "python"
    }
  },
  "cells": [
    {
      "cell_type": "markdown",
      "metadata": {
        "id": "view-in-github",
        "colab_type": "text"
      },
      "source": [
        "<a href=\"https://colab.research.google.com/github/ercandeniz18/PythonProjects/blob/main/Functional_programming.ipynb\" target=\"_parent\"><img src=\"https://colab.research.google.com/assets/colab-badge.svg\" alt=\"Open In Colab\"/></a>"
      ]
    },
    {
      "cell_type": "markdown",
      "source": [
        "# Fuctional programming"
      ],
      "metadata": {
        "id": "iwG0cUE0ZJP7"
      }
    },
    {
      "cell_type": "markdown",
      "source": [
        "## **Recursion**\n",
        "\n",
        "\n",
        "\n",
        "\n"
      ],
      "metadata": {
        "id": "rylqjTjUZUhf"
      }
    },
    {
      "cell_type": "markdown",
      "source": [
        "Recursion is a very important concept in functional programming.\n",
        "The fundamental part of recursion is self-reference -- functions calling themselves.\n",
        "It is used to solve problems that can be broken up into easier sub-problems of the same type.\n",
        "A classic example of a function that is implemented recursively is the factorial function,\n",
        "which finds the product of all positive integers below a specified number.\n",
        "\n",
        "For example,\n",
        "5! (5 factorial) is 5 * 4 * 3 * 2 * 1 (120).\n",
        "To implement this recursively,\n",
        "notice that 5! = 5 * 4!, 4! = 4 * 3!, 3! = 3 * 2!,\n",
        "and so on. Generally, n! = n * (n-1)!.\n",
        "\n",
        "Furthermore, 1! = 1.\n",
        "This is known as the base case,\n",
        "as it can be calculated without\n",
        "performing any more factorials.\n",
        "\n",
        "Below is a recursive implementation of the factorial function.\n"
      ],
      "metadata": {
        "id": "jpvSa2-aZ46g"
      }
    },
    {
      "cell_type": "code",
      "source": [
        "def factorial(x):\n",
        "  if x == 1:\n",
        "    return 1\n",
        "  else:\n",
        "    return x * factorial(x-1)\n",
        "\n",
        "print(factorial(5))"
      ],
      "metadata": {
        "id": "sb9dRNuk_fLh"
      },
      "execution_count": null,
      "outputs": []
    },
    {
      "cell_type": "markdown",
      "source": [
        "\n",
        "Recursion can also be indirect. One function can call a second, which calls the first, which calls the second, and so on. This can occur with any number of functions.\n",
        "\n",
        "**Example:**"
      ],
      "metadata": {
        "id": "RoY498NdacGp"
      }
    },
    {
      "cell_type": "code",
      "source": [
        "def is_even(x):\n",
        "  if x == 0:\n",
        "    return True\n",
        "  else:\n",
        "    return is_odd(x-1)\n",
        "\n",
        "def is_odd(x):\n",
        "  return not is_even(x)\n",
        "\n",
        "\n",
        "print(is_odd(17))\n",
        "print(is_even(23))"
      ],
      "metadata": {
        "colab": {
          "base_uri": "https://localhost:8080/"
        },
        "id": "Utn_s-iqanBB",
        "outputId": "790b241d-ec63-4278-f908-cfca61b79c66"
      },
      "execution_count": null,
      "outputs": [
        {
          "output_type": "stream",
          "name": "stdout",
          "text": [
            "True\n",
            "False\n"
          ]
        }
      ]
    },
    {
      "cell_type": "markdown",
      "source": [
        "# Recursion\n",
        "\n",
        "\n",
        "The given code defines a recursive function convert(), which needs to convert its argument from decimal to binary.\n",
        "\n",
        "However, the code has an error.\n",
        "\n",
        "Fix the code by adding the base case for the recursion, then take a number from user input and call the convert() function, to output the result.\n",
        "\n",
        "**Sample Input**\n",
        "\n",
        "8\n",
        "\n",
        "**Sample Output**\n",
        "\n",
        "1000"
      ],
      "metadata": {
        "id": "MkuJKhMtbC1_"
      }
    },
    {
      "cell_type": "code",
      "source": [
        "def convert(num):\n",
        "    if num == 0:\n",
        "        return \"0\"\n",
        "    elif num == 1:\n",
        "        return \"1\"\n",
        "    else:\n",
        "        return convert(num // 2) + str(num % 2)\n",
        "\n",
        "# Get user input\n",
        "decimal_num = int(input(\"Enter a decimal number: \"))\n",
        "\n",
        "# Call the convert function and print the result\n",
        "binary_num = convert(decimal_num)\n",
        "print(\"Binary representation:\", binary_num)\n"
      ],
      "metadata": {
        "colab": {
          "base_uri": "https://localhost:8080/"
        },
        "id": "W-zvt2S4g-bT",
        "outputId": "81aa2ead-3cb4-4216-d708-b352d6ffdadb"
      },
      "execution_count": null,
      "outputs": [
        {
          "output_type": "stream",
          "name": "stdout",
          "text": [
            "Enter a decimal number: 8\n",
            "Binary representation: 1000\n"
          ]
        }
      ]
    },
    {
      "cell_type": "markdown",
      "source": [
        "What is the result of this code?\n",
        "\n",
        "```\n",
        "def fib(x):\n",
        "  if x == 0 or x == 1:\n",
        "    return 1\n",
        "  else:\n",
        "    return fib(x-1) + fib(x-2)\n",
        "print(fib(4))\n",
        "```\n",
        "\n"
      ],
      "metadata": {
        "id": "ABynzka6kcJl"
      }
    },
    {
      "cell_type": "markdown",
      "source": [
        "The code defines a recursive function fib(x) that calculates the Fibonacci sequence. The Fibonacci sequence is a series of numbers where each number is the sum of the two preceding ones, usually starting with 0 and 1.\n",
        "\n",
        "**Here's the breakdown of the function calls for fib(4):**\n",
        "\n",
        "fib(4) calls fib(3) and fib(2) (both are one level below).\n",
        "\n",
        "fib(3) calls fib(2) and fib(1).\n",
        "fib(2) calls fib(1) and fib(0).\n",
        "\n",
        "At this point, the base cases fib(0) and fib(1) are reached:\n",
        "\n",
        "fib(0) returns 1.\n",
        "fib(1) returns 1.\n",
        "\n",
        "Now, we can start calculating the values up the recursion tree:\n",
        "\n",
        "fib(2) returns fib(1) + fib(0) which is 1 + 1 = 2.\n",
        "\n",
        "fib(3) returns fib(2) + fib(1) which is 2 + 1 = 3.\n",
        "\n",
        "fib(4) returns fib(3) + fib(2) which is 3 + 2 = 5.\n",
        "\n",
        "So, the result of print(fib(4)) is 5."
      ],
      "metadata": {
        "id": "ccadCTgYlfjc"
      }
    },
    {
      "cell_type": "markdown",
      "source": [
        "# *args and **kwargs\n",
        "***args**\n",
        "\n",
        "\n",
        "Python allows you to have functions with varying numbers of arguments.\n",
        "\n",
        "Using *args as a function parameter enables you to pass an arbitrary number of arguments to that function. The arguments are then accessible as the tuple args in the body of the function."
      ],
      "metadata": {
        "id": "HRnJlUfNmRBG"
      }
    },
    {
      "cell_type": "code",
      "source": [
        "def function(named_arg, *args):\n",
        "   print(named_arg)\n",
        "   print(args)\n",
        "\n",
        "function(1, 2, 3, 4, 5)"
      ],
      "metadata": {
        "colab": {
          "base_uri": "https://localhost:8080/"
        },
        "id": "qpZo2n4Ym2I0",
        "outputId": "754e7b13-8727-48c7-df08-08a59a57ff9b"
      },
      "execution_count": null,
      "outputs": [
        {
          "output_type": "stream",
          "name": "stdout",
          "text": [
            "1\n",
            "(2, 3, 4, 5)\n"
          ]
        }
      ]
    },
    {
      "cell_type": "markdown",
      "source": [
        "The parameter *args must come after the named parameters to a function.\n",
        "\n",
        "The name args is just a convention; you can choose to use another."
      ],
      "metadata": {
        "id": "ck1FAfaEm7M-"
      }
    },
    {
      "cell_type": "markdown",
      "source": [
        "**kwargs**\n",
        "\n",
        "**kwargs (standing for keyword arguments) allows you to handle named arguments that you have not defined in advance.\n",
        "\n",
        "The keyword arguments return a dictionary in which the keys are the argument names, and the values are the argument values."
      ],
      "metadata": {
        "id": "Nn06pocUnk-9"
      }
    },
    {
      "cell_type": "code",
      "source": [
        "def my_func(x, y=7, *args, **kwargs):\n",
        "   print(kwargs)\n",
        "\n",
        "my_func(2, 3, 4, 5, 6, a=7, b=8)"
      ],
      "metadata": {
        "colab": {
          "base_uri": "https://localhost:8080/"
        },
        "id": "rVyfQAN9nkp-",
        "outputId": "8161f27d-73b9-4065-b56c-d86fa8ce8a3f"
      },
      "execution_count": null,
      "outputs": [
        {
          "output_type": "stream",
          "name": "stdout",
          "text": [
            "{'a': 7, 'b': 8}\n"
          ]
        }
      ]
    },
    {
      "cell_type": "markdown",
      "source": [
        "a and b are the names of the arguments that we passed to the function call.\n",
        "\n",
        "level\n",
        "The arguments returned by **kwargs are not included in *args."
      ],
      "metadata": {
        "id": "lONDnJwvnwjL"
      }
    },
    {
      "cell_type": "markdown",
      "source": [
        "# *args\n",
        "The given code defined a function called my_min(), which takes two arguments and returns the smaller one.\n",
        "\n",
        "You need to improve the function, so that it can take any number of variables, so that the function call works.\n",
        "\n",
        "level\n",
        "Remember, *args can be accessed inside the function as a tuple."
      ],
      "metadata": {
        "id": "RvBvCj2xoPC1"
      }
    },
    {
      "cell_type": "code",
      "source": [
        "def my_min(*args):\n",
        "    if len(args) == 0:\n",
        "        return None  # Handle the case when no arguments are provided\n",
        "\n",
        "    return min(args)\n",
        "\n",
        "# Test the function\n",
        "print(my_min(8, 13, 4, 42, 120, 7))\n"
      ],
      "metadata": {
        "id": "ZwdLlvIYn4VA",
        "colab": {
          "base_uri": "https://localhost:8080/"
        },
        "outputId": "82b8d42f-474f-4799-a263-7cc7a4094ea6"
      },
      "execution_count": 1,
      "outputs": [
        {
          "output_type": "stream",
          "name": "stdout",
          "text": [
            "4\n"
          ]
        }
      ]
    }
  ]
}