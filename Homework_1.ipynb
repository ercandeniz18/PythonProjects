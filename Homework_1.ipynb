{
  "nbformat": 4,
  "nbformat_minor": 0,
  "metadata": {
    "colab": {
      "name": "Calculator.ipynb",
      "provenance": []
    },
    "kernelspec": {
      "name": "python3",
      "display_name": "Python 3"
    }
  },
  "cells": [
    {
      "cell_type": "code",
      "metadata": {
        "id": "Hp4so8hMMsNl",
        "colab": {
          "base_uri": "https://localhost:8080/"
        },
        "outputId": "a10e7dd7-50c5-4951-f7d3-0455daac8d65"
      },
      "source": [
        "#yaş kontrol \r\n",
        "age = int(input('yaşınızı giriniz'))\r\n",
        "if age <= 0 :\r\n",
        "  print(\"hatalı değer girdiniz!\")\r\n",
        "elif age >= 18 :\r\n",
        "  print('yaşınız uygun')\r\n",
        "else:\r\n",
        "  print('yaşınız 18\\'den büyük olmalı')\r\n",
        "6"
      ],
      "execution_count": 8,
      "outputs": [
        {
          "output_type": "stream",
          "text": [
            "yaşınızı giriniz6\n",
            "yaşınız 18'den büyük olmalı\n"
          ],
          "name": "stdout"
        }
      ]
    },
    {
      "cell_type": "markdown",
      "metadata": {
        "id": "DFoEAHbBoPEe"
      },
      "source": [
        "# Yeni Bölüm"
      ]
    },
    {
      "cell_type": "code",
      "metadata": {
        "id": "w9OuFWouPfK1"
      },
      "source": [
        "num = 0\r\n",
        "number = int(input('katlarını görmek istdeğiniz sayı nedir?'))\r\n",
        "while num  < 20000 :\r\n",
        "  if num < 0 :\r\n",
        "      print('hatalı değer!')#1.koşul satırında bir eksiklik var çözemedim.\r\n",
        "  elif num % number == 0 :\r\n",
        "      print(num)\r\n",
        "  num += 1"
      ],
      "execution_count": null,
      "outputs": []
    },
    {
      "cell_type": "code",
      "metadata": {
        "id": "1KV2YRKPTFKL",
        "colab": {
          "base_uri": "https://localhost:8080/"
        },
        "outputId": "94a9ab66-11b3-4aa9-8282-2736c4a1427e"
      },
      "source": [
        "#hesap makinesi\r\n",
        "print('''işlemler:\r\n",
        "toplama=1\r\n",
        "çıkarma=2\r\n",
        "çarpma=3\r\n",
        "bölme=4''')\r\n",
        "\r\n",
        "def top(num1,num2):\r\n",
        "    return num1+num2\r\n",
        "def fark(num1,num2):\r\n",
        "  return num1-num2\r\n",
        "def carp(num1,num2):\r\n",
        "  return num1*num2\r\n",
        "def bol(num1,num2):\r\n",
        "  return num1/num2\r\n",
        "\r\n",
        "opt = int(input(\"işlemi seçiniz\"))\r\n",
        "num1 = int(input(\"1.sayı\"))\r\n",
        "num2 = int(input(\"2.sayı\"))\r\n",
        "\r\n",
        "\r\n",
        "if opt == 1:\r\n",
        "  print(num1,\"+\",num2,\"=\",top(num1, num2))\r\n",
        "elif opt == 2:\r\n",
        "  print(num1,\"-\",num2,\"=\",fark(num1, num2))\r\n",
        "elif opt == 3:\r\n",
        "  print(num1,\"*\",num2,\"=\",carp(num1, num2))\r\n",
        "elif opt == 4:\r\n",
        "  print(num1,\"/\",num2,\"=\",bol(num1, num2))\r\n",
        " \r\n"
      ],
      "execution_count": 13,
      "outputs": [
        {
          "output_type": "stream",
          "text": [
            "işlemler:\n",
            "toplama=1\n",
            "çıkarma=2\n",
            "çarpma=3\n",
            "bölme=4\n",
            "işlemi seçiniz3\n",
            "1.sayı3\n",
            "2.sayı3\n",
            "3 * 3 = 9\n"
          ],
          "name": "stdout"
        }
      ]
    },
    {
      "cell_type": "code",
      "metadata": {
        "id": "cYyfiZMIkb9F"
      },
      "source": [
        ""
      ],
      "execution_count": null,
      "outputs": []
    }
  ]
}
