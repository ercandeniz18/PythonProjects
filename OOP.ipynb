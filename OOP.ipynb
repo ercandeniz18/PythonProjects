{
  "nbformat": 4,
  "nbformat_minor": 0,
  "metadata": {
    "colab": {
      "provenance": [],
      "authorship_tag": "ABX9TyMDrdnt/IegAd2nxpEAFvVw",
      "include_colab_link": true
    },
    "kernelspec": {
      "name": "python3",
      "display_name": "Python 3"
    },
    "language_info": {
      "name": "python"
    }
  },
  "cells": [
    {
      "cell_type": "markdown",
      "metadata": {
        "id": "view-in-github",
        "colab_type": "text"
      },
      "source": [
        "<a href=\"https://colab.research.google.com/github/ercandeniz18/PythonProjects/blob/main/OOP.ipynb\" target=\"_parent\"><img src=\"https://colab.research.google.com/assets/colab-badge.svg\" alt=\"Open In Colab\"/></a>"
      ]
    },
    {
      "cell_type": "markdown",
      "source": [
        "# Classes\n",
        "The focal point of Object Oriented Programming (OOP) are objects, which are created using classes.\n",
        "\n",
        "The class describes what the object will be, but is separate from the object itself. In other words, a class can be described as an object's blueprint, description, or definition.\n",
        "\n",
        "You can use the same class as a blueprint for creating multiple different objects.\n",
        "\n",
        "Classes are created using the keyword class and an indented block, which contains class methods (which are functions).\n",
        "\n",
        "Below is an example of a simple class and its objects.\n"
      ],
      "metadata": {
        "id": "HGptj3O7rp6G"
      }
    },
    {
      "cell_type": "code",
      "execution_count": null,
      "metadata": {
        "id": "5hudNS5vrdru"
      },
      "outputs": [],
      "source": [
        "class Cat:\n",
        "  def __init__(self, color, legs):\n",
        "    self.color = color\n",
        "    self.legs = legs\n",
        "\n",
        "felix = Cat(\"ginger\", 4)\n",
        "rover = Cat(\"dog-colored\", 4)\n",
        "stumpy = Cat(\"brown\", 3)"
      ]
    },
    {
      "cell_type": "markdown",
      "source": [
        "This code defines a class named **Cat**, which has two attributes: **color** and **legs**.\n",
        "\n",
        "Then the class is used to create 3 separate objects of that class.\n",
        "\n",
        "---\n",
        "\n",
        "\n"
      ],
      "metadata": {
        "id": "7FYrCBUurzYN"
      }
    },
    {
      "cell_type": "markdown",
      "source": [
        "# \\__init__\n",
        "# The \\__init__ method is the most important method in a class.\n",
        "\n",
        "This is called when an instance (object) of the class is created, using the class name as a function.\n",
        "\n",
        "All methods must have self as their first parameter, although it isn't explicitly passed, Python adds the self argument to the list for you; you do not need to include it when you call the methods. Within a method definition, self refers to the instance calling the method.\n",
        "\n",
        "Instances of a class have attributes, which are pieces of data associated with them.\n",
        "\n",
        "In this example, Cat instances have attributes color and legs. These can be accessed by putting a dot, and the attribute name after an instance.\n",
        "\n",
        "In an \\__init__ method, **self.attribute** can therefore be used to set the initial value of an instance's attributes."
      ],
      "metadata": {
        "id": "h2W58FPZsRPr"
      }
    },
    {
      "cell_type": "code",
      "source": [
        "class Cat:\n",
        "  def __init__(self, color, legs):\n",
        "    self.color = color\n",
        "    self.legs = legs\n",
        "\n",
        "felix = Cat(\"ginger\", 4)\n",
        "print(felix.color)"
      ],
      "metadata": {
        "id": "z0HIDAE6rxd5"
      },
      "execution_count": null,
      "outputs": []
    },
    {
      "cell_type": "markdown",
      "source": [
        "In the example above, the \\__init__ method takes two arguments and assigns them to the object's attributes. The \\__init__ method is called the class constructor.\n",
        "\n",
        "---\n",
        "\n"
      ],
      "metadata": {
        "id": "-SU1vt8KtUVo"
      }
    },
    {
      "cell_type": "markdown",
      "source": [
        "# Methods\n",
        "Classes can have other methods defined to add functionality to them.\n",
        "\n",
        "Remember, that all methods must have self as their first parameter.\n",
        "\n",
        "These methods are accessed using the same dot syntax as attributes."
      ],
      "metadata": {
        "id": "eRIeA62NtazB"
      }
    },
    {
      "cell_type": "code",
      "source": [
        "class Dog:\n",
        "  def __init__(self, name, color):\n",
        "    self.name = name\n",
        "    self.color = color\n",
        "\n",
        "  def bark(self):\n",
        "    print(\"Woof!\")\n",
        "\n",
        "fido = Dog(\"Fido\", \"brown\")\n",
        "print(fido.name)\n",
        "fido.bark()"
      ],
      "metadata": {
        "id": "Zp9oGdD0tsQb"
      },
      "execution_count": null,
      "outputs": []
    },
    {
      "cell_type": "markdown",
      "source": [
        "# Classes\n",
        "\n",
        "\n",
        "You are making a video game! The given code declares a Player class, with its attributes and an **intro()** method.\n",
        "\n",
        "Complete the code to take the name and level from user input, create a Player object with the corresponding values and call the **intro()** method of that object.\n",
        "\n",
        "**Sample Input**\n",
        "\n",
        "**Tony**\n",
        "\n",
        "12\n",
        "\n",
        "**Sample Output**\n",
        "\n",
        "Tony (Level 12)"
      ],
      "metadata": {
        "id": "20OQrlpgtwjh"
      }
    },
    {
      "cell_type": "code",
      "source": [
        "class Player:\n",
        "    def __init__(self, name, level):\n",
        "        self.name = name\n",
        "        self.level = level\n",
        "\n",
        "    def intro(self):\n",
        "        print(self.name + \" (Level \" + self.level + \")\")\n",
        "\n",
        "#your code goes here\n",
        "name=input()#requesting name from the user.\n",
        "level=input()#requesting level from the user.\n",
        "player=Player(name,level) #creating player with given inputs\n",
        "player.intro() #calling intro method in class\n",
        "\n"
      ],
      "metadata": {
        "colab": {
          "base_uri": "https://localhost:8080/"
        },
        "id": "PEh4v-ijt_5b",
        "outputId": "fa08547d-db58-483c-b259-4e1d612aaa6c"
      },
      "execution_count": 1,
      "outputs": [
        {
          "output_type": "stream",
          "name": "stdout",
          "text": [
            "Ercan\n",
            "223\n",
            "Ercan (Level 223)\n"
          ]
        }
      ]
    },
    {
      "cell_type": "markdown",
      "source": [],
      "metadata": {
        "id": "i4hOX4zpxQkI"
      }
    }
  ]
}