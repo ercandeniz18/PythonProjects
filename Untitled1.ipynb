{
  "nbformat": 4,
  "nbformat_minor": 0,
  "metadata": {
    "colab": {
      "provenance": [],
      "authorship_tag": "ABX9TyMpBo2oTMesRfX/uX7YQqKe",
      "include_colab_link": true
    },
    "kernelspec": {
      "name": "python3",
      "display_name": "Python 3"
    },
    "language_info": {
      "name": "python"
    }
  },
  "cells": [
    {
      "cell_type": "markdown",
      "metadata": {
        "id": "view-in-github",
        "colab_type": "text"
      },
      "source": [
        "<a href=\"https://colab.research.google.com/github/ercandeniz18/PythonProjects/blob/main/Untitled1.ipynb\" target=\"_parent\"><img src=\"https://colab.research.google.com/assets/colab-badge.svg\" alt=\"Open In Colab\"/></a>"
      ]
    },
    {
      "cell_type": "code",
      "execution_count": null,
      "metadata": {
        "id": "TWdpR67J6MSS"
      },
      "outputs": [],
      "source": [
        "da d awd"
      ]
    },
    {
      "cell_type": "markdown",
      "source": [
        "awd wadawd"
      ],
      "metadata": {
        "id": "DC33dFb36U75"
      }
    },
    {
      "cell_type": "code",
      "source": [],
      "metadata": {
        "id": "eykNFk8U6WgX"
      },
      "execution_count": null,
      "outputs": []
    }
  ]
}